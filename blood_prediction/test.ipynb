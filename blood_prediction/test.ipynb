{
 "cells": [
  {
   "cell_type": "code",
   "execution_count": 3,
   "metadata": {},
   "outputs": [],
   "source": [
    "from tokenize import group\n",
    "import numpy as np\n",
    "import pandas as pd\n",
    "from keras.models import Sequential\n",
    "from keras.layers import LSTM, Dropout, Dense,Embedding, BatchNormalization\n",
    "import matplotlib.pyplot as plt\n",
    "group_size = 7\n",
    "total = []\n",
    "data = pd.read_excel('1.xlsx',sheet_name='Sheet1')\n",
    "df = pd.DataFrame(data, columns= ['A+','A-','B+','B-', 'AB+', 'AB-', 'O+','O-'])\n",
    "list = df.values.tolist()"
   ]
  },
  {
   "cell_type": "code",
   "execution_count": 4,
   "metadata": {},
   "outputs": [],
   "source": [
    "total = np.array(list)\n",
    "x = []\n",
    "y = []\n",
    "for i in range(len(list)-group_size):\n",
    "    temp = total[i:i+group_size]\n",
    "    x.append(temp)\n",
    "    y.append(total[i+group_size])\n",
    "x = np.array(x)\n",
    "y = np.array(y)"
   ]
  },
  {
   "cell_type": "code",
   "execution_count": 5,
   "metadata": {},
   "outputs": [
    {
     "data": {
      "text/plain": [
       "array([[[8, 0, 3, ..., 0, 1, 2],\n",
       "        [4, 0, 4, ..., 0, 3, 2],\n",
       "        [2, 0, 3, ..., 0, 4, 0],\n",
       "        ...,\n",
       "        [4, 2, 5, ..., 0, 3, 0],\n",
       "        [8, 2, 4, ..., 0, 4, 0],\n",
       "        [5, 0, 1, ..., 0, 6, 3]],\n",
       "\n",
       "       [[4, 0, 4, ..., 0, 3, 2],\n",
       "        [2, 0, 3, ..., 0, 4, 0],\n",
       "        [5, 0, 6, ..., 0, 7, 3],\n",
       "        ...,\n",
       "        [8, 2, 4, ..., 0, 4, 0],\n",
       "        [5, 0, 1, ..., 0, 6, 3],\n",
       "        [8, 0, 3, ..., 0, 4, 0]],\n",
       "\n",
       "       [[2, 0, 3, ..., 0, 4, 0],\n",
       "        [5, 0, 6, ..., 0, 7, 3],\n",
       "        [4, 2, 5, ..., 0, 3, 0],\n",
       "        ...,\n",
       "        [5, 0, 1, ..., 0, 6, 3],\n",
       "        [8, 0, 3, ..., 0, 4, 0],\n",
       "        [4, 0, 0, ..., 0, 1, 0]],\n",
       "\n",
       "       ...,\n",
       "\n",
       "       [[4, 1, 2, ..., 0, 2, 0],\n",
       "        [9, 0, 2, ..., 0, 5, 1],\n",
       "        [5, 1, 2, ..., 0, 5, 1],\n",
       "        ...,\n",
       "        [3, 1, 3, ..., 0, 9, 0],\n",
       "        [2, 1, 1, ..., 0, 8, 2],\n",
       "        [1, 0, 2, ..., 0, 2, 0]],\n",
       "\n",
       "       [[9, 0, 2, ..., 0, 5, 1],\n",
       "        [5, 1, 2, ..., 0, 5, 1],\n",
       "        [4, 0, 1, ..., 0, 5, 1],\n",
       "        ...,\n",
       "        [2, 1, 1, ..., 0, 8, 2],\n",
       "        [1, 0, 2, ..., 0, 2, 0],\n",
       "        [2, 0, 2, ..., 0, 3, 0]],\n",
       "\n",
       "       [[5, 1, 2, ..., 0, 5, 1],\n",
       "        [4, 0, 1, ..., 0, 5, 1],\n",
       "        [3, 1, 3, ..., 0, 9, 0],\n",
       "        ...,\n",
       "        [1, 0, 2, ..., 0, 2, 0],\n",
       "        [2, 0, 2, ..., 0, 3, 0],\n",
       "        [8, 1, 3, ..., 1, 4, 2]]])"
      ]
     },
     "execution_count": 5,
     "metadata": {},
     "output_type": "execute_result"
    }
   ],
   "source": [
    "\n",
    "train_x = x[:500]\n",
    "train_y = y[:500]\n",
    "test_x = x[500:]\n",
    "test_y = y[500:]\n",
    "\n",
    "train_x\n"
   ]
  },
  {
   "cell_type": "code",
   "execution_count": 6,
   "metadata": {},
   "outputs": [
    {
     "data": {
      "text/plain": [
       "(7, 8)"
      ]
     },
     "execution_count": 6,
     "metadata": {},
     "output_type": "execute_result"
    }
   ],
   "source": [
    "train_x[0].shape"
   ]
  },
  {
   "cell_type": "code",
   "execution_count": 75,
   "metadata": {},
   "outputs": [],
   "source": [
    "model = Sequential()\n",
    "# model.add(BatchNormalization())\n",
    "model.add(LSTM(units=50, return_sequences=True, input_shape=(train_x[0].shape)))\n",
    "model.add(LSTM(units=50))\n",
    "model.add(Dense(8))\n",
    "model.compile(loss='mse', optimizer='adam')\n",
    "# model.compile(loss='mean_squared_error', optimizer='adam')"
   ]
  },
  {
   "cell_type": "code",
   "execution_count": 76,
   "metadata": {},
   "outputs": [
    {
     "name": "stdout",
     "output_type": "stream",
     "text": [
      "Epoch 1/10\n",
      "63/63 [==============================] - 6s 27ms/step - loss: 7.5956 - val_loss: 4.7845\n",
      "Epoch 2/10\n",
      "63/63 [==============================] - 1s 9ms/step - loss: 5.3876 - val_loss: 4.7668\n",
      "Epoch 3/10\n",
      "63/63 [==============================] - 1s 9ms/step - loss: 5.3475 - val_loss: 4.7421\n",
      "Epoch 4/10\n",
      "63/63 [==============================] - 1s 9ms/step - loss: 5.3248 - val_loss: 4.7267\n",
      "Epoch 5/10\n",
      "63/63 [==============================] - 1s 10ms/step - loss: 5.3054 - val_loss: 4.6947\n",
      "Epoch 6/10\n",
      "63/63 [==============================] - 1s 9ms/step - loss: 5.2890 - val_loss: 4.6731\n",
      "Epoch 7/10\n",
      "63/63 [==============================] - 1s 9ms/step - loss: 5.2640 - val_loss: 4.5988\n",
      "Epoch 8/10\n",
      "63/63 [==============================] - 1s 9ms/step - loss: 5.2463 - val_loss: 4.6036\n",
      "Epoch 9/10\n",
      "63/63 [==============================] - 1s 9ms/step - loss: 5.2031 - val_loss: 4.4005\n",
      "Epoch 10/10\n",
      "63/63 [==============================] - 1s 9ms/step - loss: 5.1448 - val_loss: 4.3899\n"
     ]
    },
    {
     "data": {
      "image/png": "[encoded data removed]",
      "text/plain": [
       "<Figure size 640x480 with 1 Axes>"
      ]
     },
     "metadata": {},
     "output_type": "display_data"
    }
   ],
   "source": [
    "history = model.fit(train_x, train_y, epochs=10, batch_size=8, validation_data=(test_x, test_y), verbose=1, shuffle=False)\n",
    "\n",
    "plt.plot(history.history['loss'], label='train')\n",
    "plt.plot(history.history['val_loss'], label='test')\n",
    "plt.legend()\n",
    "plt.show()"
   ]
  },
  {
   "cell_type": "code",
   "execution_count": 77,
   "metadata": {},
   "outputs": [],
   "source": [
    "# model.save('1.h5')"
   ]
  },
  {
   "cell_type": "code",
   "execution_count": null,
   "metadata": {},
   "outputs": [],
   "source": []
  },
  {
   "cell_type": "code",
   "execution_count": 78,
   "metadata": {},
   "outputs": [],
   "source": [
    "x = np.array([[ 8,  2,  4,  0,  0,  0,  4,  0],\n",
    "        [ 5,  0,  1,  0,  0,  0,  6,  3],\n",
    "        [ 8,  0,  3,  0,  3,  0,  4,  0],\n",
    "        [ 4,  0,  0,  1,  0,  0,  1,  0],\n",
    "        [ 6,  0,  3,  1,  0,  0, 12,  0],\n",
    "        [10,  0,  5,  0,  2,  0,  9,  1],\n",
    "        [ 5,  0,  1,  0,  0,  0,  6,  1]])\n"
   ]
  },
  {
   "cell_type": "code",
   "execution_count": 79,
   "metadata": {},
   "outputs": [
    {
     "data": {
      "text/plain": [
       "(1, 7, 8)"
      ]
     },
     "execution_count": 79,
     "metadata": {},
     "output_type": "execute_result"
    }
   ],
   "source": [
    "x = x.reshape(1, x.shape[0], x.shape[1])\n",
    "x.shape"
   ]
  },
  {
   "cell_type": "code",
   "execution_count": 80,
   "metadata": {},
   "outputs": [
    {
     "name": "stdout",
     "output_type": "stream",
     "text": [
      "1/1 [==============================] - 1s 1s/step\n"
     ]
    },
    {
     "data": {
      "text/plain": [
       "(8,)"
      ]
     },
     "execution_count": 80,
     "metadata": {},
     "output_type": "execute_result"
    }
   ],
   "source": [
    "y = model.predict(x)\n",
    "y[0].shape"
   ]
  },
  {
   "cell_type": "code",
   "execution_count": null,
   "metadata": {},
   "outputs": [],
   "source": []
  },
  {
   "cell_type": "code",
   "execution_count": null,
   "metadata": {},
   "outputs": [],
   "source": []
  }
 ],
 "metadata": {
  "kernelspec": {
   "display_name": "Python 3.10.7 64-bit",
   "language": "python",
   "name": "python3"
  },
  "language_info": {
   "codemirror_mode": {
    "name": "ipython",
    "version": 3
   },
   "file_extension": ".py",
   "mimetype": "text/x-python",
   "name": "python",
   "nbconvert_exporter": "python",
   "pygments_lexer": "ipython3",
   "version": "3.10.7"
  },
  "orig_nbformat": 4,
  "vscode": {
   "interpreter": {
    "hash": "2839a64c6795153a084deb110db763bcdcf9c46a422c85b16d06ca1fb9645de9"
   }
  }
 },
 "nbformat": 4,
 "nbformat_minor": 2
}
