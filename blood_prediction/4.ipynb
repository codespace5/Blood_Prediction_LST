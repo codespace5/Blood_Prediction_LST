{
 "cells": [
  {
   "cell_type": "code",
   "execution_count": 127,
   "metadata": {},
   "outputs": [],
   "source": [
    "import math\n",
    "import pandas as pd\n",
    "import numpy as np\n",
    "import matplotlib.pyplot as plt\n",
    "from sklearn.preprocessing import MinMaxScaler\n",
    "from sklearn.metrics import mean_squared_error\n",
    "from keras.models import Sequential\n",
    "from keras.layers import Dense, LSTM, Dropout"
   ]
  },
  {
   "cell_type": "code",
   "execution_count": 128,
   "metadata": {},
   "outputs": [],
   "source": [
    "np.random.seed(42)"
   ]
  },
  {
   "cell_type": "code",
   "execution_count": 129,
   "metadata": {},
   "outputs": [
    {
     "name": "stderr",
     "output_type": "stream",
     "text": [
      "C:\\Users\\Potter\\AppData\\Local\\Temp\\ipykernel_7908\\1501474546.py:5: UserWarning: Parsing dates in DD/MM/YYYY format when dayfirst=False (the default) was specified. This may lead to inconsistently parsed dates! Specify a format to ensure consistent parsing.\n",
      "  df.index = pd.to_datetime(df.index)\n"
     ]
    }
   ],
   "source": [
    "# df = pd.read_excel('1.xlsx')\n",
    "df = pd.read_csv('2.csv')\n",
    "Predict_Case = ['A+','A-','B+','B-','AB+','AB-','O+','O-']\n",
    "df.set_index('Record Date', inplace=True)\n",
    "df.index = pd.to_datetime(df.index)\n",
    "days_to_predict = 30"
   ]
  },
  {
   "cell_type": "code",
   "execution_count": 130,
   "metadata": {},
   "outputs": [],
   "source": [
    "def data_split(data, look_back=1):\n",
    "    x, y = [], []\n",
    "    for i in range(len(data) - look_back - 1):\n",
    "        a = data[i:(i + look_back), 0]\n",
    "        x.append(a)\n",
    "        y.append(data[i + look_back, 0])\n",
    "    return np.array(x), np.array(y)"
   ]
  },
  {
   "cell_type": "code",
   "execution_count": 131,
   "metadata": {},
   "outputs": [
    {
     "name": "stdout",
     "output_type": "stream",
     "text": [
      "             A-\n",
      "Record Date    \n",
      "2015-01-01    0\n",
      "2015-02-01    3\n",
      "2015-03-01    0\n",
      "2015-04-01    0\n",
      "2015-05-01    2\n",
      "...          ..\n",
      "2022-07-17    0\n",
      "2022-07-18    0\n",
      "2022-07-19    0\n",
      "2022-07-20    2\n",
      "2022-07-21    1\n",
      "\n",
      "[2759 rows x 1 columns]\n"
     ]
    }
   ],
   "source": [
    "dataset = df.filter([Predict_Case[1]])\n",
    "print(dataset)"
   ]
  },
  {
   "cell_type": "code",
   "execution_count": 141,
   "metadata": {},
   "outputs": [
    {
     "name": "stdout",
     "output_type": "stream",
     "text": [
      "             A-\n",
      "Record Date    \n",
      "2020-04-16    0\n",
      "2020-04-17    1\n",
      "2020-04-18    1\n",
      "2020-04-19    0\n",
      "2020-04-20    0\n",
      "2020-04-21    0\n"
     ]
    }
   ],
   "source": [
    "test_size = int(dataset.shape[0] * 0.3)\n",
    "all = dataset[:]\n",
    "train = dataset[:-test_size]\n",
    "test = dataset[-test_size:]\n",
    "print(test[0:6])\n",
    "# print(train.shape)"
   ]
  },
  {
   "cell_type": "code",
   "execution_count": 107,
   "metadata": {},
   "outputs": [
    {
     "name": "stdout",
     "output_type": "stream",
     "text": [
      "184\n"
     ]
    }
   ],
   "source": [
    "# scaler = MinMaxScaler(feature_range=(-1, 1))\n",
    "# scaler = scaler.fit(dataset)\n",
    "# all = scaler.transform(dataset)\n",
    "# train = scaler.transform(train)\n",
    "# test = scaler.transform(test)\n",
    "# all = np.array(dataset)\n",
    "# all =all.values.tolist()\n",
    "all =all.values.tolist()\n",
    "all = np.array(all)\n",
    "train =train.values.tolist()\n",
    "train = np.array(train)\n",
    "test = test.values.tolist()\n",
    "print(len(test))\n",
    "test = np.array(test)"
   ]
  },
  {
   "cell_type": "code",
   "execution_count": 108,
   "metadata": {},
   "outputs": [],
   "source": [
    "look_back = 60\n",
    "X_all, Y_all = data_split(all, look_back=look_back)\n",
    "X_train, Y_train = data_split(train, look_back=look_back)\n",
    "X_test, Y_test = data_split(test, look_back=look_back)\n",
    "\n",
    "# We need to convert the shape of the data to LSTM shape format (samples, timesteps, features)\n",
    "# To make a model can learning from a sequence, we'll using timesteps for timeseries prediction\n",
    "# X_train[0].shape"
   ]
  },
  {
   "cell_type": "code",
   "execution_count": 109,
   "metadata": {},
   "outputs": [],
   "source": [
    "# X_train = X_train.reshape(1, X_train.shape[0], X_train.shape[1])\n",
    "# Y_train = Y_train.reshape(1, Y_train.shape[0], Y_train.shape[1])\n",
    "# X_test = X_test.reshape(1, X_test.shape[0], X_test.shape[1])\n",
    "# Y_test = Y_test.reshape(1, Y_test.shape[0], Y_test.shape[1])"
   ]
  },
  {
   "cell_type": "code",
   "execution_count": 110,
   "metadata": {},
   "outputs": [],
   "source": [
    "batch_size = 30\n",
    "model = Sequential()\n",
    "model.add(LSTM(units=50, return_sequences=True, input_shape=(1,look_back)))\n",
    "model.add(LSTM(units=50))\n",
    "model.add(Dense(1))\n",
    "# model.add(LSTM(units=50, return_sequences=True,input_shape=(1,5), \n",
    "#                 stateful=True))\n",
    "# model.add(LSTM(units=50))\n"
   ]
  },
  {
   "cell_type": "code",
   "execution_count": 111,
   "metadata": {},
   "outputs": [],
   "source": [
    "model.add(Dense(1))\n",
    "model.compile(loss='mean_squared_error', optimizer='adam')"
   ]
  },
  {
   "cell_type": "code",
   "execution_count": 112,
   "metadata": {},
   "outputs": [
    {
     "name": "stdout",
     "output_type": "stream",
     "text": [
      "(371, 1, 60)\n",
      "Epoch 1/15\n",
      "47/47 [==============================] - 6s 36ms/step - loss: 1.4177 - val_loss: 0.6891\n",
      "Epoch 2/15\n",
      "47/47 [==============================] - 0s 7ms/step - loss: 1.2608 - val_loss: 0.7233\n",
      "Epoch 3/15\n",
      "47/47 [==============================] - 0s 8ms/step - loss: 1.1746 - val_loss: 0.7295\n",
      "Epoch 4/15\n",
      "47/47 [==============================] - 0s 9ms/step - loss: 1.0586 - val_loss: 0.7487\n",
      "Epoch 5/15\n",
      "47/47 [==============================] - 0s 6ms/step - loss: 0.9210 - val_loss: 0.7918\n",
      "Epoch 6/15\n",
      "47/47 [==============================] - 0s 5ms/step - loss: 0.7733 - val_loss: 0.8406\n",
      "Epoch 7/15\n",
      "47/47 [==============================] - 0s 6ms/step - loss: 0.6160 - val_loss: 0.8745\n",
      "Epoch 8/15\n",
      "47/47 [==============================] - 0s 6ms/step - loss: 0.4539 - val_loss: 0.8928\n",
      "Epoch 9/15\n",
      "47/47 [==============================] - 0s 7ms/step - loss: 0.3085 - val_loss: 0.8999\n",
      "Epoch 10/15\n",
      "47/47 [==============================] - 0s 6ms/step - loss: 0.2029 - val_loss: 0.9078\n",
      "Epoch 11/15\n",
      "47/47 [==============================] - 0s 6ms/step - loss: 0.1422 - val_loss: 0.9077\n",
      "Epoch 12/15\n",
      "47/47 [==============================] - 0s 5ms/step - loss: 0.1049 - val_loss: 0.9117\n",
      "Epoch 13/15\n",
      "47/47 [==============================] - 0s 6ms/step - loss: 0.0881 - val_loss: 0.9688\n",
      "Epoch 14/15\n",
      "47/47 [==============================] - 0s 6ms/step - loss: 0.0879 - val_loss: 0.9501\n",
      "Epoch 15/15\n",
      "47/47 [==============================] - 0s 6ms/step - loss: 0.1336 - val_loss: 0.8734\n"
     ]
    }
   ],
   "source": [
    "X_train = X_train.reshape(X_train.shape[0], 1, X_train.shape[1])\n",
    "X_test = X_test.reshape(X_test.shape[0], 1, X_test.shape[1])\n",
    "print(X_train.shape) \n",
    "# x = x.reshape(1, x.shape[0], x.shape[1])\n",
    "history = model.fit(X_train, Y_train, epochs=15, batch_size=8, validation_data=(X_test, Y_test), verbose=1, shuffle=False)\n"
   ]
  },
  {
   "cell_type": "code",
   "execution_count": 113,
   "metadata": {},
   "outputs": [
    {
     "data": {
      "image/png": "[encoded data removed]",
      "text/plain": [
       "<Figure size 640x480 with 1 Axes>"
      ]
     },
     "metadata": {},
     "output_type": "display_data"
    }
   ],
   "source": [
    "plt.plot(history.history['loss'], label='train')\n",
    "plt.plot(history.history['val_loss'], label='test')\n",
    "plt.legend()\n",
    "plt.show()"
   ]
  },
  {
   "cell_type": "code",
   "execution_count": 126,
   "metadata": {},
   "outputs": [
    {
     "name": "stdout",
     "output_type": "stream",
     "text": [
      "0\n"
     ]
    }
   ],
   "source": [
    "\n",
    "# X_test = X_test.reshape(X_test.shape[0], 1, X_test.shape[1])\n",
    "# print(X_test.shape)\n",
    "# x = np.array([1, 4, 5, 6,4])\n",
    "# x = x.reshape(1, 5)\n",
    "# x = x.reshape(x.shape[0], 1, x.shape[1]) \n",
    "# print(model.predict(x))\n",
    "# print(Y_train[1])"
   ]
  },
  {
   "cell_type": "code",
   "execution_count": 115,
   "metadata": {},
   "outputs": [
    {
     "name": "stdout",
     "output_type": "stream",
     "text": [
      "1\n"
     ]
    }
   ],
   "source": [
    "X_data1 = X_test[-1:]\n",
    "# X_data1[0, 0, 0] = 8\n",
    "# X_data1[0, 0, 1] = 4\n",
    "# X_data1[0, 0, 2] = 2\n",
    "# X_data1[0, 0, 3] = 5\n",
    "# X_data1[0, 0, 4] = 4\n",
    "# X_data1[0, 0, 5] = 8\n",
    "# X_data1[0, 0, 6] = 5\n",
    "# X_data1[0, 0, 7] = 8\n",
    "# X_data1[0, 0, 8] = 4\n",
    "# X_data1[0, 0, 9] = 6\n",
    "# X_data1[0, 0, 10] = 10\n",
    "# X_data1[0, 0, 11] = 5\n",
    "# X_data1[0, 0, 12] = 2\n",
    "# X_data1[0, 0, 13] = 3\n",
    "# X_data1[0, 0, 14] = 6\n",
    "# X_data1[0, 0, 15] = 2\n",
    "# X_data1[0, 0, 16] = 6\n",
    "# X_data1[0, 0, 17] = 8\n",
    "# X_data1[0, 0, 18] = 5\n",
    "# X_data1[0, 0, 19] = 9\n",
    "# X_data1[0, 0, 20] = 7\n",
    "# X_data1[0, 0, 21] = 3\n",
    "# X_data1[0, 0, 22] = 1\n",
    "# X_data1[0, 0, 23] = 8\n",
    "# X_data1[0, 0, 24] = 11\n",
    "# X_data1[0, 0, 25] = 8\n",
    "# X_data1[0, 0, 26] = 9\n",
    "# X_data1[0, 0, 27] = 5\n",
    "# X_data1[0, 0, 28] = 7\n",
    "# X_data1[0, 0, 29] = 1\n",
    "# X_data1[0, 0, 0] = 8\n",
    "# X_data1[0, 0, 1] = 4\n",
    "# X_data1[0, 0, 2] = 2\n",
    "# X_data1[0, 0, 3] = 5\n",
    "# X_data1[0, 0, 4] = 4\n",
    "print(X_data1[0,0,9])\n",
    "# xxx =model.predict(X_data1)\n",
    "# print(xxx)"
   ]
  },
  {
   "cell_type": "code",
   "execution_count": 116,
   "metadata": {},
   "outputs": [],
   "source": [
    "\n",
    "def change(datax1, pred):\n",
    "    temp = datax1[0, 0, 0]\n",
    "    for j in range(look_back-1):\n",
    "        datax1[0, 0, j] = datax1[0, 0, j+1]\n",
    "        # print(\"ssssefef\",datax[i])\n",
    "    datax1[0, 0, look_back-1] = pred    \n",
    "    return datax1"
   ]
  },
  {
   "cell_type": "code",
   "execution_count": 117,
   "metadata": {},
   "outputs": [
    {
     "name": "stdout",
     "output_type": "stream",
     "text": [
      "1/1 [==============================] - 1s 1s/step\n",
      "0 awdwd [[0.19249628]] adawdawd\n",
      "1/1 [==============================] - 0s 31ms/step\n",
      "1 awdwd [[0.1352445]] adawdawd\n",
      "1/1 [==============================] - 0s 24ms/step\n",
      "2 awdwd [[0.5752864]] adawdawd\n",
      "1/1 [==============================] - 0s 26ms/step\n",
      "3 awdwd [[-0.02736423]] adawdawd\n",
      "1/1 [==============================] - 0s 32ms/step\n",
      "4 awdwd [[0.7227832]] adawdawd\n",
      "1/1 [==============================] - 0s 33ms/step\n",
      "5 awdwd [[0.983508]] adawdawd\n",
      "1/1 [==============================] - 0s 30ms/step\n",
      "6 awdwd [[0.15743639]] adawdawd\n",
      "1/1 [==============================] - 0s 27ms/step\n",
      "7 awdwd [[0.022977]] adawdawd\n",
      "1/1 [==============================] - 0s 32ms/step\n",
      "8 awdwd [[0.49688905]] adawdawd\n",
      "1/1 [==============================] - 0s 37ms/step\n",
      "9 awdwd [[0.03629958]] adawdawd\n",
      "1/1 [==============================] - 0s 27ms/step\n",
      "10 awdwd [[0.35786664]] adawdawd\n",
      "1/1 [==============================] - 0s 26ms/step\n",
      "11 awdwd [[-0.09761392]] adawdawd\n",
      "1/1 [==============================] - 0s 28ms/step\n",
      "12 awdwd [[0.4343443]] adawdawd\n",
      "1/1 [==============================] - 0s 28ms/step\n",
      "13 awdwd [[0.59966236]] adawdawd\n",
      "1/1 [==============================] - 0s 42ms/step\n",
      "14 awdwd [[0.1290041]] adawdawd\n",
      "1/1 [==============================] - 0s 27ms/step\n",
      "15 awdwd [[0.3392734]] adawdawd\n",
      "1/1 [==============================] - 0s 26ms/step\n",
      "16 awdwd [[-0.30830556]] adawdawd\n",
      "1/1 [==============================] - 0s 26ms/step\n",
      "17 awdwd [[0.24925919]] adawdawd\n",
      "1/1 [==============================] - 0s 31ms/step\n",
      "18 awdwd [[0.0618019]] adawdawd\n",
      "1/1 [==============================] - 0s 25ms/step\n",
      "19 awdwd [[0.2498591]] adawdawd\n",
      "1/1 [==============================] - 0s 27ms/step\n",
      "20 awdwd [[0.16853163]] adawdawd\n",
      "1/1 [==============================] - 0s 27ms/step\n",
      "21 awdwd [[-0.23316906]] adawdawd\n",
      "1/1 [==============================] - 0s 26ms/step\n",
      "22 awdwd [[-0.04686332]] adawdawd\n",
      "1/1 [==============================] - 0s 26ms/step\n",
      "23 awdwd [[0.07303168]] adawdawd\n",
      "1/1 [==============================] - 0s 28ms/step\n",
      "24 awdwd [[0.16408885]] adawdawd\n",
      "1/1 [==============================] - 0s 33ms/step\n",
      "25 awdwd [[0.21657674]] adawdawd\n",
      "1/1 [==============================] - 0s 24ms/step\n",
      "26 awdwd [[0.17824008]] adawdawd\n",
      "1/1 [==============================] - 0s 27ms/step\n",
      "27 awdwd [[-0.1322769]] adawdawd\n",
      "1/1 [==============================] - 0s 28ms/step\n",
      "28 awdwd [[0.3849139]] adawdawd\n",
      "1/1 [==============================] - 0s 27ms/step\n",
      "29 awdwd [[0.01088146]] adawdawd\n"
     ]
    }
   ],
   "source": [
    "future_predict = []\n",
    "for k in range(30):\n",
    "    pred = model.predict(X_data1)\n",
    "    pred1 = change(X_data1, pred)\n",
    "    print(k, \"awdwd\", pred, \"adawdawd\")\n",
    "    pred = np.array(pred).flatten()\n",
    "    future_predict.append(pred)"
   ]
  },
  {
   "cell_type": "code",
   "execution_count": 118,
   "metadata": {},
   "outputs": [],
   "source": [
    "# all_predict_flatten = np.array(scaler.inverse_transform(np.array(future_predict))).flatten().astype('int')\n",
    "\n",
    "all_predict_flatten = np.array(future_predict).flatten().astype('int')\n",
    "\n"
   ]
  },
  {
   "cell_type": "code",
   "execution_count": 119,
   "metadata": {},
   "outputs": [
    {
     "name": "stdout",
     "output_type": "stream",
     "text": [
      "[0 0 0 0 0 0 0 0 0 0 0 0 0 0 0 0 0 0 0 0 0 0 0 0 0 0 0 0 0 0]\n"
     ]
    }
   ],
   "source": [
    "\n",
    "all_predict_flatten = np.absolute(all_predict_flatten)\n",
    "print(all_predict_flatten)\n",
    "# print(future_predict)"
   ]
  }
 ],
 "metadata": {
  "kernelspec": {
   "display_name": "Python 3.10.7 64-bit",
   "language": "python",
   "name": "python3"
  },
  "language_info": {
   "codemirror_mode": {
    "name": "ipython",
    "version": 3
   },
   "file_extension": ".py",
   "mimetype": "text/x-python",
   "name": "python",
   "nbconvert_exporter": "python",
   "pygments_lexer": "ipython3",
   "version": "3.10.7"
  },
  "orig_nbformat": 4,
  "vscode": {
   "interpreter": {
    "hash": "2839a64c6795153a084deb110db763bcdcf9c46a422c85b16d06ca1fb9645de9"
   }
  }
 },
 "nbformat": 4,
 "nbformat_minor": 2
}
